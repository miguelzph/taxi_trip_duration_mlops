{
 "cells": [
  {
   "cell_type": "markdown",
   "id": "88f7a636",
   "metadata": {},
   "source": [
    "## Imports"
   ]
  },
  {
   "cell_type": "code",
   "execution_count": 4,
   "id": "d7737ff2",
   "metadata": {},
   "outputs": [],
   "source": [
    "import pickle\n",
    "import pandas as pd\n",
    "import matplotlib.pyplot as plt\n",
    "import seaborn as sns"
   ]
  },
  {
   "cell_type": "code",
   "execution_count": 5,
   "id": "70091cb0",
   "metadata": {},
   "outputs": [],
   "source": [
    "from sklearn.feature_extraction import DictVectorizer\n",
    "from sklearn.linear_model import LinearRegression, Lasso, Ridge\n",
    "from sklearn.metrics import mean_squared_error, mean_absolute_percentage_error"
   ]
  },
  {
   "cell_type": "code",
   "execution_count": 131,
   "id": "89cd1c00",
   "metadata": {},
   "outputs": [],
   "source": [
    "def read_data(filename):\n",
    "    df = pd.read_parquet(filename)\n",
    "    \n",
    "    categories_columns = ['PUlocationID', 'DOlocationID']\n",
    "    df[categories_columns] = df[categories_columns].astype('str')\n",
    "    \n",
    "    df['duration'] = df['dropOff_datetime'] -  df['pickup_datetime']\n",
    "    \n",
    "    df['duration'] = (df['duration'].dt.total_seconds() /60).astype('float64') # duration in minutes\n",
    "    \n",
    "    df.drop(columns=['SR_Flag', 'Affiliated_base_number'], inplace=True)\n",
    "    \n",
    "    # it's no really a NaN it's a string 'nan'\n",
    "    df.loc[df['PUlocationID'] == 'nan', 'PUlocationID'] = -1\n",
    "    df.loc[df['DOlocationID'] == 'nan', 'DOlocationID'] = -1\n",
    "    \n",
    "    return df.copy()"
   ]
  },
  {
   "cell_type": "code",
   "execution_count": 186,
   "id": "ef0acf01",
   "metadata": {},
   "outputs": [],
   "source": [
    "def select_data(data):\n",
    "    \n",
    "    categories_columns = ['PUlocationID', 'DOlocationID']\n",
    "    \n",
    "    dict_data = data[categories_columns].to_dict(orient='records')\n",
    "    \n",
    "    return dict_data"
   ]
  },
  {
   "cell_type": "markdown",
   "id": "8dd53ffc",
   "metadata": {},
   "source": [
    "## Train Data"
   ]
  },
  {
   "cell_type": "code",
   "execution_count": 145,
   "id": "aff2a264",
   "metadata": {},
   "outputs": [],
   "source": [
    "# train data\n",
    "df_train = read_data('../datasets/fhv_tripdata_2021-01.parquet')"
   ]
  },
  {
   "cell_type": "markdown",
   "id": "e547f0c9",
   "metadata": {},
   "source": [
    "### Q1 - Read the data for January. How many records are there?"
   ]
  },
  {
   "cell_type": "code",
   "execution_count": 146,
   "id": "929eab8b",
   "metadata": {},
   "outputs": [
    {
     "name": "stdout",
     "output_type": "stream",
     "text": [
      "Number of Rows: 1154112\n"
     ]
    }
   ],
   "source": [
    "number_rows_df_train_original = df_train.shape[0]\n",
    "print(f'Number of Rows: {number_rows_df_train_original}')"
   ]
  },
  {
   "cell_type": "markdown",
   "id": "747da223",
   "metadata": {},
   "source": [
    "### Q2 - Computing duration"
   ]
  },
  {
   "cell_type": "code",
   "execution_count": 147,
   "id": "018c2463",
   "metadata": {},
   "outputs": [
    {
     "name": "stdout",
     "output_type": "stream",
     "text": [
      "Mean time of duration: 19.1672 minutes\n"
     ]
    }
   ],
   "source": [
    "print(f'Mean time of duration: {df_train.duration.mean():.4f} minutes')"
   ]
  },
  {
   "cell_type": "markdown",
   "id": "437b3663",
   "metadata": {},
   "source": [
    "### Data preparation - How many records did you drop?"
   ]
  },
  {
   "cell_type": "code",
   "execution_count": 148,
   "id": "8a894ab1",
   "metadata": {},
   "outputs": [],
   "source": [
    "# filter time\n",
    "df_train = df_train.loc[df_train['duration'].between(1,60)]"
   ]
  },
  {
   "cell_type": "code",
   "execution_count": 149,
   "id": "c7b263da",
   "metadata": {},
   "outputs": [
    {
     "name": "stdout",
     "output_type": "stream",
     "text": [
      "Number of Dropped Rows: 44286\n"
     ]
    }
   ],
   "source": [
    "print(f'Number of Dropped Rows: {number_rows_df_train_original - df_train.shape[0]}')"
   ]
  },
  {
   "cell_type": "markdown",
   "id": "58db53e4",
   "metadata": {},
   "source": [
    "### Q3 - What's the fractions of missing values for the pickup location ID? "
   ]
  },
  {
   "cell_type": "code",
   "execution_count": 170,
   "id": "e83640e3",
   "metadata": {},
   "outputs": [
    {
     "name": "stdout",
     "output_type": "stream",
     "text": [
      "Percentage of missing values Pickup Location ID: 83.53%\n"
     ]
    }
   ],
   "source": [
    "print(f\"Percentage of missing values Pickup Location ID: {len(df_train[df_train['PUlocationID'] == -1]) / len(df_train):.2%}\")"
   ]
  },
  {
   "cell_type": "markdown",
   "id": "bb9f0a02",
   "metadata": {},
   "source": [
    "### Q4 - What's the dimensionality of this matrix?"
   ]
  },
  {
   "cell_type": "code",
   "execution_count": 174,
   "id": "94242131",
   "metadata": {},
   "outputs": [],
   "source": [
    "y_train = df_train['duration']\n",
    "\n",
    "dict_train = select_data(df_train)\n",
    "dv = DictVectorizer()\n",
    "x_train = dv.fit_transform(dict_train)"
   ]
  },
  {
   "cell_type": "code",
   "execution_count": 177,
   "id": "ea81a8d9",
   "metadata": {},
   "outputs": [
    {
     "name": "stdout",
     "output_type": "stream",
     "text": [
      "Number of columns: 525\n"
     ]
    }
   ],
   "source": [
    "print(f'Number of columns: {x_train.shape[1]}')"
   ]
  },
  {
   "cell_type": "markdown",
   "id": "662c4fc8",
   "metadata": {},
   "source": [
    "### Q5 - What's the RMSE on train?"
   ]
  },
  {
   "cell_type": "markdown",
   "id": "7d7558b5",
   "metadata": {},
   "source": [
    "#### LR MODEL"
   ]
  },
  {
   "cell_type": "code",
   "execution_count": 178,
   "id": "8132348a",
   "metadata": {},
   "outputs": [
    {
     "data": {
      "text/plain": [
       "LinearRegression()"
      ]
     },
     "execution_count": 178,
     "metadata": {},
     "output_type": "execute_result"
    }
   ],
   "source": [
    "# define model\n",
    "lr = LinearRegression()\n",
    "# train model\n",
    "lr.fit(x_train, y_train)"
   ]
  },
  {
   "cell_type": "code",
   "execution_count": 190,
   "id": "2b95a7e5",
   "metadata": {},
   "outputs": [
    {
     "name": "stdout",
     "output_type": "stream",
     "text": [
      "RMSE in Train Data: 10.5285\n"
     ]
    }
   ],
   "source": [
    "y_train_predict = lr.predict(x_train)\n",
    "error_in_train = mean_squared_error(y_train, y_train_predict, squared=False)\n",
    "print(f'RMSE in Train Data: {error_in_train:.4f}')"
   ]
  },
  {
   "cell_type": "markdown",
   "id": "9f2ad34d",
   "metadata": {},
   "source": [
    "### Q6 - What's the RMSE on validation?"
   ]
  },
  {
   "cell_type": "code",
   "execution_count": 184,
   "id": "4c57ba05",
   "metadata": {},
   "outputs": [],
   "source": [
    "df_validation = read_data('../datasets/fhv_tripdata_2021-02.parquet')\n",
    "\n",
    "# filter time\n",
    "df_validation = df_validation.loc[df_validation['duration'].between(1,60)]\n",
    "\n",
    "y_validation = df_validation['duration']\n",
    "\n",
    "dict_validation = select_data(df_validation)\n",
    "\n",
    "x_validation = dv.transform(dict_validation)"
   ]
  },
  {
   "cell_type": "code",
   "execution_count": 189,
   "id": "42e996f5",
   "metadata": {},
   "outputs": [
    {
     "name": "stdout",
     "output_type": "stream",
     "text": [
      "RMSE in Validation Data: 11.0143\n"
     ]
    }
   ],
   "source": [
    "# predict on validation\n",
    "y_predict = lr.predict(x_validation)\n",
    "\n",
    "error_in_validation = mean_squared_error(y_predict, y_validation, squared=False)\n",
    "\n",
    "print(f'RMSE in Validation Data: {error_in_validation:.4f}')"
   ]
  },
  {
   "cell_type": "markdown",
   "id": "bfa7df4e",
   "metadata": {},
   "source": [
    "### Extra - Plot"
   ]
  },
  {
   "cell_type": "code",
   "execution_count": 187,
   "id": "41e8cb9b",
   "metadata": {},
   "outputs": [
    {
     "data": {
      "image/png": "[encoded data removed]",
      "text/plain": [
       "<Figure size 720x360 with 1 Axes>"
      ]
     },
     "metadata": {
      "needs_background": "light"
     },
     "output_type": "display_data"
    }
   ],
   "source": [
    "plt.figure(figsize=(10,5))\n",
    "ax= sns.histplot(y_validation, label='y True', color='blue')\n",
    "sns.histplot(y_predict, label='y Predict', color='orange', ax=ax)\n",
    "\n",
    "ax.set_xlim(-10, 200)\n",
    "plt.legend();"
   ]
  }
 ],
 "metadata": {
  "kernelspec": {
   "display_name": "Python 3 (ipykernel)",
   "language": "python",
   "name": "python3"
  },
  "language_info": {
   "codemirror_mode": {
    "name": "ipython",
    "version": 3
   },
   "file_extension": ".py",
   "mimetype": "text/x-python",
   "name": "python",
   "nbconvert_exporter": "python",
   "pygments_lexer": "ipython3",
   "version": "3.9.12"
  }
 },
 "nbformat": 4,
 "nbformat_minor": 5
}
