{
 "cells": [
  {
   "cell_type": "markdown",
   "id": "204536aa",
   "metadata": {},
   "source": [
    "## Imports"
   ]
  },
  {
   "cell_type": "markdown",
   "id": "f854ccd0",
   "metadata": {},
   "source": [
    "## Question 1: Version of MLflow"
   ]
  },
  {
   "cell_type": "code",
   "execution_count": 2,
   "id": "7ab61ed9",
   "metadata": {},
   "outputs": [
    {
     "name": "stdout",
     "output_type": "stream",
     "text": [
      "Name: mlflow\r\n",
      "Version: 1.26.0\r\n",
      "Summary: MLflow: A Platform for ML Development and Productionization\r\n",
      "Home-page: https://mlflow.org/\r\n",
      "Author: Databricks\r\n",
      "Author-email: \r\n",
      "License: Apache License 2.0\r\n",
      "Location: /home/miguelzph/anaconda3/envs/taxi_project/lib/python3.9/site-packages\r\n",
      "Requires: protobuf, docker, gunicorn, querystring-parser, pyyaml, alembic, numpy, cloudpickle, requests, Flask, pytz, entrypoints, databricks-cli, sqlalchemy, gitpython, prometheus-flask-exporter, packaging, pandas, scipy, importlib-metadata, click, sqlparse\r\n",
      "Required-by: \r\n"
     ]
    }
   ],
   "source": [
    "!pip show mlflow"
   ]
  },
  {
   "cell_type": "markdown",
   "id": "7bfb36f4",
   "metadata": {},
   "source": [
    "## Question 2: Number of files in output folder"
   ]
  },
  {
   "cell_type": "code",
   "execution_count": 7,
   "id": "1a468aff",
   "metadata": {},
   "outputs": [
    {
     "name": "stdout",
     "output_type": "stream",
     "text": [
      "dv.pkl\ttest.pkl  train.pkl  valid.pkl\r\n"
     ]
    }
   ],
   "source": [
    "!cd homework_aux/m02/output && ls"
   ]
  },
  {
   "cell_type": "markdown",
   "id": "d6c520d8",
   "metadata": {},
   "source": [
    "## Question 3: Number of parameters logged with autolog"
   ]
  },
  {
   "cell_type": "code",
   "execution_count": null,
   "id": "3ab3f42a",
   "metadata": {},
   "outputs": [],
   "source": [
    "import argparse\n",
    "import os\n",
    "import pickle\n",
    "import mlflow\n",
    "\n",
    "from sklearn.ensemble import RandomForestRegressor\n",
    "from sklearn.metrics import mean_squared_error\n",
    "\n",
    "\n",
    "def load_pickle(filename: str):\n",
    "    with open(filename, \"rb\") as f_in:\n",
    "        return pickle.load(f_in)\n",
    "\n",
    "\n",
    "def run(data_path):\n",
    "    mlflow.set_experiment(\"my-experiment-1\")\n",
    "    \n",
    "    mlflow.sklearn.autolog()\n",
    "    \n",
    "    with mlflow.start_run():\n",
    "\n",
    "        X_train, y_train = load_pickle(os.path.join(data_path, \"train.pkl\"))\n",
    "        X_valid, y_valid = load_pickle(os.path.join(data_path, \"valid.pkl\"))\n",
    "\n",
    "        rf = RandomForestRegressor(max_depth=10, random_state=0)\n",
    "        rf.fit(X_train, y_train)\n",
    "        y_pred = rf.predict(X_valid)\n",
    "\n",
    "        rmse = mean_squared_error(y_valid, y_pred, squared=False)\n",
    "\n",
    "        mlflow.log_metric(\"rmse\", rmse)\n",
    "\n",
    "\n",
    "if __name__ == '__main__':\n",
    "\n",
    "    parser = argparse.ArgumentParser()\n",
    "    parser.add_argument(\n",
    "        \"--data_path\",\n",
    "        default=\"./output\",\n",
    "        help=\"the location where the processed NYC taxi trip data was saved.\"\n",
    "    )\n",
    "    args = parser.parse_args()\n",
    "\n",
    "    run(args.data_path)"
   ]
  },
  {
   "cell_type": "code",
   "execution_count": 16,
   "id": "7c2e13ef",
   "metadata": {},
   "outputs": [
    {
     "name": "stdout",
     "output_type": "stream",
     "text": [
      "bootstrap     max_leaf_nodes\t     min_weight_fraction_leaf  verbose\r\n",
      "ccp_alpha     max_samples\t     n_estimators\t       warm_start\r\n",
      "criterion     min_impurity_decrease  n_jobs\r\n",
      "max_depth     min_samples_leaf\t     oob_score\r\n",
      "max_features  min_samples_split      random_state\r\n"
     ]
    }
   ],
   "source": [
    "# folder deleted\n",
    "!cd homework_aux/m02/mlruns/1/69320c6932264310a21c3d0881503cb9/params && ls"
   ]
  },
  {
   "cell_type": "markdown",
   "id": "f8c34480",
   "metadata": {},
   "source": [
    "## Question 4: Parameter for launching the tracking server"
   ]
  },
  {
   "cell_type": "markdown",
   "id": "f3abfe4e",
   "metadata": {},
   "source": [
    "default-artifact-root"
   ]
  },
  {
   "cell_type": "markdown",
   "id": "072a75b5",
   "metadata": {},
   "source": [
    "## Question 5: RMSE with hyperopt"
   ]
  },
  {
   "cell_type": "code",
   "execution_count": 20,
   "id": "8f06b013",
   "metadata": {},
   "outputs": [],
   "source": [
    "import argparse\n",
    "import os\n",
    "import pickle\n",
    "\n",
    "import mlflow\n",
    "import numpy as np\n",
    "from hyperopt import STATUS_OK, Trials, fmin, hp, tpe\n",
    "from hyperopt.pyll import scope\n",
    "from sklearn.ensemble import RandomForestRegressor\n",
    "from sklearn.metrics import mean_squared_error\n",
    "\n",
    "mlflow.set_tracking_uri(\"http://127.0.0.1:5000\")\n",
    "mlflow.set_experiment(\"random-forest-hyperopt\")\n",
    "\n",
    "\n",
    "def load_pickle(filename):\n",
    "    with open(filename, \"rb\") as f_in:\n",
    "        return pickle.load(f_in)\n",
    "\n",
    "\n",
    "def run(data_path, num_trials):\n",
    "\n",
    "    X_train, y_train = load_pickle(os.path.join(data_path, \"train.pkl\"))\n",
    "    X_valid, y_valid = load_pickle(os.path.join(data_path, \"valid.pkl\"))\n",
    "\n",
    "    def objective(params):\n",
    "        with mlflow.start_run():\n",
    "            mlflow.set_tag(\"model\", \"RandomForest\")\n",
    "            mlflow.log_params(params)\n",
    "\n",
    "            rf = RandomForestRegressor(**params)\n",
    "            rf.fit(X_train, y_train)\n",
    "            y_pred = rf.predict(X_valid)\n",
    "            rmse = mean_squared_error(y_valid, y_pred, squared=False)\n",
    "\n",
    "            mlflow.log_metric('rmse', rmse)\n",
    "\n",
    "            return {'loss': rmse, 'status': STATUS_OK}\n",
    "\n",
    "    search_space = {\n",
    "        'max_depth': scope.int(hp.quniform('max_depth', 1, 20, 1)),\n",
    "        'n_estimators': scope.int(hp.quniform('n_estimators', 10, 50, 1)),\n",
    "        'min_samples_split': scope.int(hp.quniform('min_samples_split', 2, 10, 1)),\n",
    "        'min_samples_leaf': scope.int(hp.quniform('min_samples_leaf', 1, 4, 1)),\n",
    "        'random_state': 42\n",
    "    }\n",
    "\n",
    "    rstate = np.random.default_rng(42)  # for reproducible results\n",
    "    \n",
    "    best_result = fmin(\n",
    "        fn=objective,\n",
    "        space=search_space,\n",
    "        algo=tpe.suggest,\n",
    "        max_evals=num_trials,\n",
    "        trials=Trials(),\n",
    "        rstate=rstate\n",
    "    )\n",
    "\n",
    "\n",
    "if __name__ == '__main__':\n",
    "\n",
    "    parser = argparse.ArgumentParser()\n",
    "    parser.add_argument(\n",
    "        \"--data_path\",\n",
    "        default=\"./output\",\n",
    "        help=\"the location where the processed NYC taxi trip data was saved.\"\n",
    "    )\n",
    "    parser.add_argument(\n",
    "        \"--max_evals\",\n",
    "        type=int,\n",
    "        default=50,\n",
    "        help=\"the number of parameter evaluations for the optimizer to explore.\"\n",
    "    )\n",
    "    args = parser.parse_args()\n",
    "\n",
    "    run(args.data_path, args.max_evals)"
   ]
  },
  {
   "cell_type": "markdown",
   "id": "7862d6f5",
   "metadata": {},
   "source": [
    "6.628"
   ]
  },
  {
   "cell_type": "markdown",
   "id": "889ce905",
   "metadata": {},
   "source": [
    "## Question 6: RMSE on test"
   ]
  },
  {
   "cell_type": "code",
   "execution_count": null,
   "id": "82332e89",
   "metadata": {},
   "outputs": [],
   "source": [
    "import argparse\n",
    "import os\n",
    "import pickle\n",
    "\n",
    "import mlflow\n",
    "from hyperopt import hp, space_eval\n",
    "from hyperopt.pyll import scope\n",
    "from mlflow.entities import ViewType\n",
    "from mlflow.tracking import MlflowClient\n",
    "from sklearn.ensemble import RandomForestRegressor\n",
    "from sklearn.metrics import mean_squared_error\n",
    "\n",
    "HPO_EXPERIMENT_NAME = \"random-forest-hyperopt\"\n",
    "EXPERIMENT_NAME = \"random-forest-best-models\"\n",
    "\n",
    "mlflow.set_tracking_uri(\"http://127.0.0.1:5000\")\n",
    "mlflow.set_experiment(EXPERIMENT_NAME)\n",
    "mlflow.sklearn.autolog()\n",
    "\n",
    "SPACE = {\n",
    "    'max_depth': scope.int(hp.quniform('max_depth', 1, 20, 1)),\n",
    "    'n_estimators': scope.int(hp.quniform('n_estimators', 10, 50, 1)),\n",
    "    'min_samples_split': scope.int(hp.quniform('min_samples_split', 2, 10, 1)),\n",
    "    'min_samples_leaf': scope.int(hp.quniform('min_samples_leaf', 1, 4, 1)),\n",
    "    'random_state': 42\n",
    "}\n",
    "\n",
    "\n",
    "def load_pickle(filename):\n",
    "    with open(filename, \"rb\") as f_in:\n",
    "        return pickle.load(f_in)\n",
    "\n",
    "\n",
    "def train_and_log_model(data_path, params):\n",
    "    X_train, y_train = load_pickle(os.path.join(data_path, \"train.pkl\"))\n",
    "    X_valid, y_valid = load_pickle(os.path.join(data_path, \"valid.pkl\"))\n",
    "    X_test, y_test = load_pickle(os.path.join(data_path, \"test.pkl\"))\n",
    "\n",
    "    with mlflow.start_run():\n",
    "        params = space_eval(SPACE, params)\n",
    "        rf = RandomForestRegressor(**params)\n",
    "        rf.fit(X_train, y_train)\n",
    "\n",
    "        # evaluate model on the validation and test sets\n",
    "        valid_rmse = mean_squared_error(y_valid, rf.predict(X_valid), squared=False)\n",
    "        mlflow.log_metric(\"valid_rmse\", valid_rmse)\n",
    "        test_rmse = mean_squared_error(y_test, rf.predict(X_test), squared=False)\n",
    "        mlflow.log_metric(\"test_rmse\", test_rmse)\n",
    "\n",
    "\n",
    "def run(data_path, log_top):\n",
    "\n",
    "    client = MlflowClient()\n",
    "\n",
    "    # retrieve the top_n model runs and log the models to MLflow\n",
    "    experiment = client.get_experiment_by_name(HPO_EXPERIMENT_NAME)\n",
    "    runs = client.search_runs(\n",
    "        experiment_ids=experiment.experiment_id,\n",
    "        run_view_type=ViewType.ACTIVE_ONLY,\n",
    "        max_results=log_top,\n",
    "        order_by=[\"metrics.rmse ASC\"]\n",
    "    )\n",
    "    for run in runs:\n",
    "        train_and_log_model(data_path=data_path, params=run.data.params)\n",
    "\n",
    "    # select the model with the lowest test RMSE\n",
    "    experiment = client.get_experiment_by_name(EXPERIMENT_NAME)\n",
    "    \n",
    "    best_run = client.search_runs(\n",
    "    experiment_ids=experiment.experiment_id,\n",
    "    filter_string=\"\",\n",
    "    run_view_type=ViewType.ACTIVE_ONLY,\n",
    "    max_results=1,\n",
    "    order_by=[\"metrics.test_rmse ASC\"]\n",
    "    )[0]\n",
    "    \n",
    "    # register the best model\n",
    "    mlflow.register_model(\n",
    "    model_uri=f\"runs:/{best_run.info.run_id}/models\",\n",
    "    name='random-forest-model'\n",
    "    )\n",
    "\n",
    "\n",
    "if __name__ == '__main__':\n",
    "\n",
    "    parser = argparse.ArgumentParser()\n",
    "    parser.add_argument(\n",
    "        \"--data_path\",\n",
    "        default=\"./output\",\n",
    "        help=\"the location where the processed NYC taxi trip data was saved.\"\n",
    "    )\n",
    "    parser.add_argument(\n",
    "        \"--top_n\",\n",
    "        default=5,\n",
    "        type=int,\n",
    "        help=\"the top 'top_n' models will be evaluated to decide which model to promote.\"\n",
    "    )\n",
    "    args = parser.parse_args()\n",
    "\n",
    "    run(args.data_path, args.top_n)"
   ]
  },
  {
   "cell_type": "markdown",
   "id": "585a4349",
   "metadata": {},
   "source": [
    "6.548"
   ]
  }
 ],
 "metadata": {
  "kernelspec": {
   "display_name": "Python 3 (ipykernel)",
   "language": "python",
   "name": "python3"
  },
  "language_info": {
   "codemirror_mode": {
    "name": "ipython",
    "version": 3
   },
   "file_extension": ".py",
   "mimetype": "text/x-python",
   "name": "python",
   "nbconvert_exporter": "python",
   "pygments_lexer": "ipython3",
   "version": "3.9.12"
  }
 },
 "nbformat": 4,
 "nbformat_minor": 5
}
