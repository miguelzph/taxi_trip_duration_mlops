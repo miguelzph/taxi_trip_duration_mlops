{
 "cells": [
  {
   "cell_type": "markdown",
   "id": "88f7a636",
   "metadata": {},
   "source": [
    "## Imports"
   ]
  },
  {
   "cell_type": "code",
   "execution_count": 1,
   "id": "d7737ff2",
   "metadata": {},
   "outputs": [],
   "source": [
    "import pickle\n",
    "import pandas as pd"
   ]
  },
  {
   "cell_type": "code",
   "execution_count": 2,
   "id": "70091cb0",
   "metadata": {},
   "outputs": [],
   "source": [
    "from sklearn.feature_extraction import DictVectorizer\n",
    "from sklearn.metrics import mean_squared_error\n",
    "from sklearn.ensemble import RandomForestRegressor"
   ]
  },
  {
   "cell_type": "code",
   "execution_count": 3,
   "id": "c7fcdb35",
   "metadata": {},
   "outputs": [],
   "source": [
    "from sklearn.pipeline import make_pipeline"
   ]
  },
  {
   "cell_type": "code",
   "execution_count": 4,
   "id": "5cafd1bb",
   "metadata": {},
   "outputs": [
    {
     "data": {
      "text/plain": [
       "<Experiment: artifact_location='./artifacts_local/1', experiment_id='1', lifecycle_stage='active', name='nyc-taxi-experiment', tags={}>"
      ]
     },
     "execution_count": 4,
     "metadata": {},
     "output_type": "execute_result"
    }
   ],
   "source": [
    "import mlflow\n",
    "\n",
    "#mlflow.set_tracking_uri(\"sqlite:///mlflow.db\")\n",
    "mlflow.set_tracking_uri(\"http://127.0.0.1:5000\")\n",
    "mlflow.set_experiment(\"nyc-taxi-experiment\")"
   ]
  },
  {
   "cell_type": "code",
   "execution_count": 5,
   "id": "89cd1c00",
   "metadata": {},
   "outputs": [],
   "source": [
    "def read_data(filename):\n",
    "    df = pd.read_parquet(filename)\n",
    "    \n",
    "    categories_columns = ['PULocationID', 'DOLocationID']\n",
    "    df[categories_columns] = df[categories_columns].astype('str')\n",
    "    \n",
    "    df['duration'] = df['lpep_dropoff_datetime'] -  df['lpep_pickup_datetime']\n",
    "    \n",
    "    df['duration'] = (df['duration'].dt.seconds /60).astype('float64').round(4) # duration in minutes\n",
    "    \n",
    "    # just o get the same result --> but is probably wrong do this in validation data\n",
    "    df = df[(df.duration >= 1) & (df.duration <= 60)]\n",
    "    \n",
    "    return df"
   ]
  },
  {
   "cell_type": "code",
   "execution_count": 6,
   "id": "ef0acf01",
   "metadata": {},
   "outputs": [],
   "source": [
    "def select_data(data):\n",
    "    \n",
    "    data['PU_DO'] = data['PULocationID'] + '_' +data['DOLocationID']\n",
    "    \n",
    "    categories_columns = ['PU_DO']\n",
    "    #categories_columns = ['PULocationID', 'DOLocationID']\n",
    "    numerical_columns = ['trip_distance']\n",
    "    \n",
    "    dict_data = data[categories_columns + numerical_columns].to_dict(orient='records')\n",
    "    \n",
    "    return dict_data"
   ]
  },
  {
   "cell_type": "markdown",
   "id": "23f80a75",
   "metadata": {},
   "source": [
    "## Train Data"
   ]
  },
  {
   "cell_type": "code",
   "execution_count": 7,
   "id": "4989b35e",
   "metadata": {},
   "outputs": [],
   "source": [
    "train_path = '../../datasets/green_tripdata_2021-01.parquet'\n",
    "df_train = read_data(train_path)\n",
    "\n",
    "#df_train = df_train.loc[df_train['duration'].between(1,60)]\n",
    "\n",
    "y_train = df_train['duration']\n",
    "\n",
    "dict_train = select_data(df_train)"
   ]
  },
  {
   "cell_type": "markdown",
   "id": "99da089c",
   "metadata": {},
   "source": [
    "## Validation Data"
   ]
  },
  {
   "cell_type": "code",
   "execution_count": 8,
   "id": "533b1a6a",
   "metadata": {},
   "outputs": [],
   "source": [
    "val_path = '../../datasets/green_tripdata_2021-02.parquet'\n",
    "df_validation = read_data(val_path)\n",
    "\n",
    "y_validation = df_validation['duration']\n",
    "\n",
    "dict_validation = select_data(df_validation)"
   ]
  },
  {
   "cell_type": "markdown",
   "id": "e2e88acd",
   "metadata": {},
   "source": [
    "### Random Forest"
   ]
  },
  {
   "cell_type": "code",
   "execution_count": 9,
   "id": "688fedd9",
   "metadata": {},
   "outputs": [
    {
     "name": "stdout",
     "output_type": "stream",
     "text": [
      "{'max_depth': 20, 'n_estimators': 100, 'min_samples_leaf': 10, 'random_state': 0} 6.755822890408456\n"
     ]
    },
    {
     "name": "stderr",
     "output_type": "stream",
     "text": [
      "/home/miguelzph/anaconda3/envs/taxi_project/lib/python3.9/site-packages/_distutils_hack/__init__.py:30: UserWarning: Setuptools is replacing distutils.\n",
      "  warnings.warn(\"Setuptools is replacing distutils.\")\n"
     ]
    }
   ],
   "source": [
    "with mlflow.start_run():\n",
    "    params = dict(max_depth=20, n_estimators=100, min_samples_leaf=10, random_state=0)\n",
    "    mlflow.log_params(params)\n",
    "\n",
    "    pipeline = make_pipeline(\n",
    "        DictVectorizer(),\n",
    "        RandomForestRegressor(**params, n_jobs=-1)\n",
    "    )\n",
    "\n",
    "    pipeline.fit(dict_train, y_train)\n",
    "    y_pred = pipeline.predict(dict_validation)\n",
    "\n",
    "    rmse = mean_squared_error(y_pred, y_validation, squared=False)\n",
    "    print(params, rmse)\n",
    "    mlflow.log_metric('rmse', rmse)\n",
    "\n",
    "    mlflow.sklearn.log_model(pipeline, artifact_path=\"model\")"
   ]
  },
  {
   "cell_type": "markdown",
   "id": "4a82d077",
   "metadata": {},
   "source": [
    "### Prediction "
   ]
  },
  {
   "cell_type": "markdown",
   "id": "4331ae56",
   "metadata": {},
   "source": [
    "#### MLflowl + pyfunc  Model"
   ]
  },
  {
   "cell_type": "code",
   "execution_count": null,
   "id": "1346048b",
   "metadata": {},
   "outputs": [],
   "source": [
    "#import mlflow\n",
    "logged_model = 'runs:/ec83b5fdf5ef4ff5be337123791ffe4f/models_mlflow'\n",
    "\n",
    "# Load model as a PyFuncModel.\n",
    "loaded_model = mlflow.pyfunc.load_model(logged_model)\n",
    "\n",
    "# Predict on a Pandas DataFrame.\n",
    "y_pred = loaded_model.predict(x_validation)"
   ]
  },
  {
   "cell_type": "code",
   "execution_count": null,
   "id": "1f29f291",
   "metadata": {},
   "outputs": [],
   "source": [
    "mean_squared_error(y_validation, y_pred, squared=False)"
   ]
  },
  {
   "cell_type": "code",
   "execution_count": null,
   "id": "cf184ef6",
   "metadata": {},
   "outputs": [],
   "source": [
    "import mlflow\n",
    "from mlflow.tracking import MlflowClient\n",
    "\n",
    "MLFLOW_TRACKING_URI = 'http://127.0.0.1:5000'\n",
    "RUN_ID = 'f6705545dd7a4d97910dcf24be62b0de'\n",
    "\n",
    "client = MlflowClient(tracking_uri=MLFLOW_TRACKING_URI)\n",
    "\n",
    "# dict vectorizer\n",
    "path_dv = client.download_artifacts(run_id=RUN_ID,\n",
    "                          path='preprocessor/dict_vectorizer.bin')\n",
    "\n",
    "with open(path_dv, 'rb') as f_in:\n",
    "    dv = pickle.load(f_in)\n",
    "\n",
    "# model \n",
    "logged_model = f'runs:/{RUN_ID}/models_mlflow'\n",
    "\n",
    "model = mlflow.pyfunc.load_model(logged_model)"
   ]
  },
  {
   "cell_type": "code",
   "execution_count": null,
   "id": "e43147fc",
   "metadata": {},
   "outputs": [],
   "source": [
    "dv"
   ]
  }
 ],
 "metadata": {
  "interpreter": {
   "hash": "ac6a420422e0422c582cfe5d47d0393bf51d75663c64817b0442c8fa12932412"
  },
  "kernelspec": {
   "display_name": "Python 3 (ipykernel)",
   "language": "python",
   "name": "python3"
  },
  "language_info": {
   "codemirror_mode": {
    "name": "ipython",
    "version": 3
   },
   "file_extension": ".py",
   "mimetype": "text/x-python",
   "name": "python",
   "nbconvert_exporter": "python",
   "pygments_lexer": "ipython3",
   "version": "3.9.12"
  }
 },
 "nbformat": 4,
 "nbformat_minor": 5
}
