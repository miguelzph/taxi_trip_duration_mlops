{
 "cells": [
  {
   "cell_type": "markdown",
   "id": "db83bf68",
   "metadata": {},
   "source": [
    "# Starter and Homework"
   ]
  },
  {
   "cell_type": "markdown",
   "id": "db83bf68",
   "metadata": {},
   "source": [
    "## Starter"
   ]
  },
  {
   "cell_type": "code",
   "execution_count": 14,
   "id": "0ef880a0",
   "metadata": {},
   "outputs": [],
   "source": [
    "import pickle\n",
    "import pandas as pd"
   ]
  },
  {
   "cell_type": "code",
   "execution_count": 28,
   "id": "7836ccfd",
   "metadata": {},
   "outputs": [],
   "source": [
    "with open('model.bin', 'rb') as f_in:\n",
    "    dv, lr = pickle.load(f_in)"
   ]
  },
  {
   "cell_type": "code",
   "execution_count": 16,
   "id": "41c08294",
   "metadata": {},
   "outputs": [],
   "source": [
    "categorical = ['PUlocationID', 'DOlocationID']\n",
    "\n",
    "def read_data(filename):\n",
    "    df = pd.read_parquet(filename)\n",
    "    \n",
    "    df['duration'] = df.dropOff_datetime - df.pickup_datetime\n",
    "    df['duration'] = df.duration.dt.total_seconds() / 60\n",
    "\n",
    "    df = df[(df.duration >= 1) & (df.duration <= 60)].copy()\n",
    "\n",
    "    df[categorical] = df[categorical].fillna(-1).astype('int').astype('str')\n",
    "    \n",
    "    return df"
   ]
  },
  {
   "cell_type": "code",
   "execution_count": 21,
   "id": "4854399a",
   "metadata": {},
   "outputs": [],
   "source": [
    "year = 2021\n",
    "month = 2\n",
    "taxi_type = 'fhv'\n",
    "\n",
    "input_file = f'https://nyc-tlc.s3.amazonaws.com/trip+data/fhv_tripdata_{year:04d}-{month:02d}.parquet'\n",
    "output_file = f'output/{taxi_type}/{year:04d}-{month:02d}.parquet'\n",
    "\n",
    "df = read_data(input_file)"
   ]
  },
  {
   "cell_type": "code",
   "execution_count": 18,
   "id": "669fda0a",
   "metadata": {},
   "outputs": [],
   "source": [
    "dicts = df[categorical].to_dict(orient='records')\n",
    "X_val = dv.transform(dicts)\n",
    "y_pred = lr.predict(X_val)"
   ]
  },
  {
   "cell_type": "markdown",
   "id": "db83bf68",
   "metadata": {},
   "source": [
    "## Homework"
   ]
  },
  {
   "cell_type": "markdown",
   "id": "9046de8d",
   "metadata": {},
   "source": [
    "### Q1. Notebook"
   ]
  },
  {
   "cell_type": "code",
   "execution_count": 19,
   "id": "fa26fd1e",
   "metadata": {},
   "outputs": [
    {
     "data": {
      "text/plain": [
       "16.191691679979066"
      ]
     },
     "execution_count": 19,
     "metadata": {},
     "output_type": "execute_result"
    }
   ],
   "source": [
    "df['pred'] = y_pred\n",
    "df['pred'].mean()"
   ]
  },
  {
   "cell_type": "markdown",
   "id": "752d2ac3",
   "metadata": {},
   "source": [
    "### Q2. Preparing the output"
   ]
  },
  {
   "cell_type": "code",
   "execution_count": 23,
   "id": "9ba2ffe7",
   "metadata": {},
   "outputs": [],
   "source": [
    "df['ride_id'] = f'{year:04d}/{month:02d}_' + df.index.astype('str')\n",
    "df_result = df[['ride_id', 'pred']].copy()"
   ]
  },
  {
   "cell_type": "code",
   "execution_count": 25,
   "id": "6e138352",
   "metadata": {},
   "outputs": [],
   "source": [
    "df_result.to_parquet(\n",
    "    output_file,\n",
    "    engine='pyarrow',\n",
    "    compression=None,\n",
    "    index=False\n",
    ")"
   ]
  },
  {
   "cell_type": "markdown",
   "id": "752d2ac3",
   "metadata": {},
   "source": [
    "### Q3. Creating the scoring script"
   ]
  },
  {
   "cell_type": "code",
   "execution_count": 27,
   "id": "ad036607",
   "metadata": {},
   "outputs": [
    {
     "name": "stdout",
     "output_type": "stream",
     "text": [
      "[NbConvertApp] Converting notebook starter.ipynb to script\n",
      "[NbConvertApp] WARNING | Non-unique cell id '752d2ac3' detected. Corrected to '03ac38e2'.\n",
      "[NbConvertApp] Writing 1411 bytes to starter.py\n"
     ]
    }
   ],
   "source": [
    "!jupyter nbconvert --to script starter.ipynb"
   ]
  },
  {
   "cell_type": "markdown",
   "id": "2dbb3a8d",
   "metadata": {},
   "source": [
    "### Q4. Virtual environment"
   ]
  },
  {
   "cell_type": "markdown",
   "id": "603acaa7",
   "metadata": {},
   "source": [
    "\"scikit-learn\": { <br>\n",
    "            \"hashes\": [ <br>\n",
    "                \"sha256:08ef968f6b72033c16c479c966bf37ccd49b06ea91b765e1cc27afefe723920b\", <br>"
   ]
  },
  {
   "cell_type": "markdown",
   "id": "2dbb3a8d",
   "metadata": {},
   "source": [
    "### Q5. Parametrize the script"
   ]
  },
  {
   "cell_type": "code",
   "execution_count": 29,
   "id": "103e2286",
   "metadata": {},
   "outputs": [
    {
     "data": {
      "text/plain": [
       "16.298821614015107"
      ]
     },
     "execution_count": 29,
     "metadata": {},
     "output_type": "execute_result"
    }
   ],
   "source": [
    "df_q5 = pd.read_parquet('output/fhv/2021-03.parquet')\n",
    "df_q5['pred'].mean()"
   ]
  },
  {
   "cell_type": "markdown",
   "id": "2dbb3a8d",
   "metadata": {},
   "source": [
    "### Q6. Docker container"
   ]
  },
  {
   "cell_type": "code",
   "execution_count": null,
   "id": "cc14c238",
   "metadata": {},
   "outputs": [],
   "source": [
    "FROM agrigorev/zoomcamp-model:mlops-3.9.7-slim\n",
    "\n",
    "RUN pip install -U pip\n",
    "RUN pip install pipenv\n",
    "\n",
    "WORKDIR /app\n",
    "\n",
    "COPY [ \"Pipfile\", \"Pipfile.lock\",  \"./\" ]\n",
    "\n",
    "RUN pipenv install --system --deploy\n",
    "\n",
    "COPY [ \"starter.py\", \"starter.py\" ]\n",
    "\n",
    "RUN mkdir -p output/fhv\n",
    "\n",
    "RUN python starter.py fhv 2021 04"
   ]
  }
 ],
 "metadata": {
  "kernelspec": {
   "display_name": "Python 3.9.12 ('taxi_project')",
   "language": "python",
   "name": "python3"
  },
  "language_info": {
   "codemirror_mode": {
    "name": "ipython",
    "version": 3
   },
   "file_extension": ".py",
   "mimetype": "text/x-python",
   "name": "python",
   "nbconvert_exporter": "python",
   "pygments_lexer": "ipython3",
   "version": "3.9.12"
  },
  "vscode": {
   "interpreter": {
    "hash": "ac6a420422e0422c582cfe5d47d0393bf51d75663c64817b0442c8fa12932412"
   }
  }
 },
 "nbformat": 4,
 "nbformat_minor": 5
}
