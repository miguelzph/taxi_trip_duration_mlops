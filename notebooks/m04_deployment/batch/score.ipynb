{
 "cells": [
  {
   "cell_type": "code",
   "execution_count": 17,
   "id": "2e25cf66",
   "metadata": {},
   "outputs": [],
   "source": [
    "import uuid\n",
    "import pandas as pd\n",
    "\n",
    "from sklearn.feature_extraction import DictVectorizer\n",
    "from sklearn.ensemble import RandomForestRegressor\n",
    "from sklearn.metrics import mean_squared_error\n",
    "from sklearn.pipeline import make_pipeline\n",
    "\n",
    "import mlflow"
   ]
  },
  {
   "cell_type": "code",
   "execution_count": 18,
   "id": "34eae434",
   "metadata": {},
   "outputs": [],
   "source": [
    "# data path\n",
    "year = 2021\n",
    "month = 3\n",
    "taxi_type = 'green'\n",
    "\n",
    "input_file = f'https://s3.amazonaws.com/nyc-tlc/trip+data/{taxi_type}_tripdata_{year:04d}-{month:02d}.parquet'\n",
    "output_file = f'output/{taxi_type}/{year:04d}-{month:02d}.parquet'\n",
    "\n",
    "# model path\n",
    "RUN_ID = 'ce361da39ca847d7b993f11d7b1dbec6'\n",
    "EXPERIMENT_ID = '2'"
   ]
  },
  {
   "cell_type": "code",
   "execution_count": 19,
   "id": "b9666e19",
   "metadata": {},
   "outputs": [],
   "source": [
    "def read_dataframe(filename: str):\n",
    "    df = pd.read_parquet(filename)\n",
    "\n",
    "    df['duration'] = df.lpep_dropoff_datetime - df.lpep_pickup_datetime\n",
    "    df.duration = df.duration.dt.total_seconds() / 60\n",
    "    df = df[(df.duration >= 1) & (df.duration <= 60)]\n",
    "    \n",
    "    df['ride_id'] = [str(uuid.uuid4()) for _ in range(len(df))]\n",
    "\n",
    "    return df\n",
    "\n",
    "\n",
    "def prepare_dictionaries(df: pd.DataFrame):\n",
    "    \n",
    "    categorical = ['PULocationID', 'DOLocationID']\n",
    "    df[categorical] = df[categorical].astype(str)\n",
    "    df['PU_DO'] = df['PULocationID'] + '_' + df['DOLocationID']\n",
    "    categorical = ['PU_DO']\n",
    "    \n",
    "    numerical = ['trip_distance']\n",
    "    \n",
    "    dicts = df[categorical + numerical].to_dict(orient='records')\n",
    "    return dicts"
   ]
  },
  {
   "cell_type": "code",
   "execution_count": 21,
   "id": "6b5f0d80",
   "metadata": {},
   "outputs": [],
   "source": [
    "def load_model(run_id, experiment_id):\n",
    "    logged_model = f's3://mlflow-artifacts-mzph/{experiment_id}/{run_id}/artifacts/model'\n",
    "    \n",
    "    model = mlflow.pyfunc.load_model(logged_model)\n",
    "    \n",
    "    return model\n",
    "\n",
    "\n",
    "def prepare_result(df, y_pred, run_id):  \n",
    "    df_result = df[['ride_id', 'lpep_pickup_datetime', 'PULocationID', 'DOLocationID']].copy()\n",
    "    df_result['predicted_duration'] = y_pred\n",
    "    df_result['actual_duration'] = df['duration']\n",
    "    df_result['diff'] = df_result['actual_duration'] - df_result['predicted_duration']\n",
    "    df_result['model_version'] = run_id\n",
    "    \n",
    "    return df_result\n",
    "\n",
    "\n",
    "def apply_model(input_file, output_file, run_id, experiment_id='2'):\n",
    "\n",
    "    df = read_dataframe(input_file)\n",
    "\n",
    "    dicts = prepare_dictionaries(df)\n",
    "    \n",
    "    model = load_model(run_id, experiment_id)\n",
    "\n",
    "    y_pred = model.predict(dicts)\n",
    "    \n",
    "    df_result = prepare_result(df, y_pred, run_id)\n",
    "    \n",
    "    df_result.to_parquet(output_file, index=False)\n",
    "    \n",
    "    return None"
   ]
  },
  {
   "cell_type": "code",
   "execution_count": 22,
   "id": "14b6eaec",
   "metadata": {},
   "outputs": [],
   "source": [
    "apply_model(input_file, output_file, RUN_ID, EXPERIMENT_ID)"
   ]
  }
 ],
 "metadata": {
  "kernelspec": {
   "display_name": "Python 3.9.12 ('taxi_project')",
   "language": "python",
   "name": "python3"
  },
  "language_info": {
   "codemirror_mode": {
    "name": "ipython",
    "version": 3
   },
   "file_extension": ".py",
   "mimetype": "text/x-python",
   "name": "python",
   "nbconvert_exporter": "python",
   "pygments_lexer": "ipython3",
   "version": "3.9.12"
  },
  "vscode": {
   "interpreter": {
    "hash": "ac6a420422e0422c582cfe5d47d0393bf51d75663c64817b0442c8fa12932412"
   }
  }
 },
 "nbformat": 4,
 "nbformat_minor": 5
}
