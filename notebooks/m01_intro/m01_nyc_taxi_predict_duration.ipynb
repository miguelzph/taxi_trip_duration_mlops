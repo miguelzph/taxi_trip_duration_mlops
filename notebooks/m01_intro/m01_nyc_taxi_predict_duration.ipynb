{
 "cells": [
  {
   "cell_type": "markdown",
   "id": "88f7a636",
   "metadata": {},
   "source": [
    "## Imports"
   ]
  },
  {
   "cell_type": "code",
   "execution_count": 263,
   "id": "d7737ff2",
   "metadata": {},
   "outputs": [],
   "source": [
    "import pickle\n",
    "import pandas as pd\n",
    "import matplotlib.pyplot as plt\n",
    "import seaborn as sns"
   ]
  },
  {
   "cell_type": "code",
   "execution_count": 188,
   "id": "70091cb0",
   "metadata": {},
   "outputs": [],
   "source": [
    "from sklearn.feature_extraction import DictVectorizer\n",
    "from sklearn.linear_model import LinearRegression, Lasso, Ridge\n",
    "from sklearn.metrics import mean_squared_error, mean_absolute_percentage_error"
   ]
  },
  {
   "cell_type": "code",
   "execution_count": 252,
   "id": "89cd1c00",
   "metadata": {},
   "outputs": [],
   "source": [
    "def read_data(filename):\n",
    "    df = pd.read_parquet(filename)\n",
    "    \n",
    "    categories_columns = ['PULocationID', 'DOLocationID']\n",
    "    df[categories_columns] = df[categories_columns].astype('str')\n",
    "    \n",
    "    df['duration'] = df['lpep_dropoff_datetime'] -  df['lpep_pickup_datetime']\n",
    "    \n",
    "    df['duration'] = (df['duration'].dt.seconds /60).astype('float64').round(4) # duration in minutes\n",
    "    \n",
    "    # just o get the same result --> but is probably wrong do this in validation data\n",
    "    df = df[(df.duration >= 1) & (df.duration <= 60)]\n",
    "    \n",
    "    return df"
   ]
  },
  {
   "cell_type": "code",
   "execution_count": 253,
   "id": "ef0acf01",
   "metadata": {},
   "outputs": [],
   "source": [
    "def select_data(data):\n",
    "    \n",
    "    data['PU_DO'] = data['PULocationID'] + '_' +data['DOLocationID']\n",
    "    \n",
    "    categories_columns = ['PU_DO']\n",
    "    #categories_columns = ['PULocationID', 'DOLocationID']\n",
    "    numerical_columns = ['trip_distance']\n",
    "    \n",
    "    dict_data = data[categories_columns + numerical_columns].to_dict(orient='records')\n",
    "    \n",
    "    return dict_data"
   ]
  },
  {
   "cell_type": "markdown",
   "id": "23f80a75",
   "metadata": {},
   "source": [
    "## Train Data"
   ]
  },
  {
   "cell_type": "code",
   "execution_count": 254,
   "id": "4989b35e",
   "metadata": {},
   "outputs": [],
   "source": [
    "df_train = read_data('../datasets/green_tripdata_2021-01.parquet')\n",
    "\n",
    "#df_train = df_train.loc[df_train['duration'].between(1,60)]\n",
    "\n",
    "y_train = df_train['duration']\n",
    "\n",
    "dict_train = select_data(df_train)\n",
    "dv = DictVectorizer()\n",
    "x_train = dv.fit_transform(dict_train)"
   ]
  },
  {
   "cell_type": "code",
   "execution_count": 255,
   "id": "a901ac3e",
   "metadata": {},
   "outputs": [
    {
     "data": {
      "image/png": "[encoded data removed]",
      "text/plain": [
       "<Figure size 1152x432 with 2 Axes>"
      ]
     },
     "metadata": {
      "needs_background": "light"
     },
     "output_type": "display_data"
    }
   ],
   "source": [
    "plt.figure(figsize=(16,6))\n",
    "plt.subplot(1,2,1)\n",
    "sns.histplot(df_train['duration']).set_title('Duration')\n",
    "plt.subplot(1,2,2)\n",
    "sns.histplot(df_train.loc[df_train['duration']<100, 'duration']).set_title('Duration < 100 min');"
   ]
  },
  {
   "cell_type": "markdown",
   "id": "99da089c",
   "metadata": {},
   "source": [
    "## Validation Data"
   ]
  },
  {
   "cell_type": "code",
   "execution_count": 257,
   "id": "533b1a6a",
   "metadata": {},
   "outputs": [],
   "source": [
    "df_validation = read_data('../datasets/green_tripdata_2021-02.parquet')\n",
    "\n",
    "y_validation = df_validation['duration']\n",
    "\n",
    "dict_validation = select_data(df_validation)\n",
    "\n",
    "x_validation = dv.transform(dict_validation)"
   ]
  },
  {
   "cell_type": "markdown",
   "id": "0687dea7",
   "metadata": {},
   "source": [
    "## Train and Evaluate Model"
   ]
  },
  {
   "cell_type": "markdown",
   "id": "2ccd38fb",
   "metadata": {},
   "source": [
    "### LR MODEL"
   ]
  },
  {
   "cell_type": "code",
   "execution_count": 265,
   "id": "b8ef3c52",
   "metadata": {},
   "outputs": [],
   "source": [
    "# define model\n",
    "lr = LinearRegression()\n",
    "# train model\n",
    "lr.fit(x_train, y_train)\n",
    "# predict on validation\n",
    "y_predict = lr.predict(x_validation)"
   ]
  },
  {
   "cell_type": "code",
   "execution_count": 266,
   "id": "fa8d46e2",
   "metadata": {},
   "outputs": [
    {
     "data": {
      "text/plain": [
       "4.640779035632152"
      ]
     },
     "execution_count": 266,
     "metadata": {},
     "output_type": "execute_result"
    }
   ],
   "source": [
    "y_train_predict = lr.predict(x_train)\n",
    "mean_squared_error(y_train, y_train_predict, squared=False)"
   ]
  },
  {
   "cell_type": "code",
   "execution_count": 267,
   "id": "9d7defd3",
   "metadata": {},
   "outputs": [
    {
     "name": "stdout",
     "output_type": "stream",
     "text": [
      "R Mean Squared Errror: 7.4796090491597615\n",
      "Mean Absolute Percentage Error: 0.3375717826195195\n"
     ]
    }
   ],
   "source": [
    "print(f'R Mean Squared Errror: {mean_squared_error(y_predict, y_validation, squared=False)}')\n",
    "\n",
    "print(f'Mean Absolute Percentage Error: {mean_absolute_percentage_error(y_predict, y_validation)}')"
   ]
  },
  {
   "cell_type": "code",
   "execution_count": 268,
   "id": "00587ab1",
   "metadata": {},
   "outputs": [
    {
     "data": {
      "image/png": "[encoded data removed]",
      "text/plain": [
       "<Figure size 720x360 with 1 Axes>"
      ]
     },
     "metadata": {
      "needs_background": "light"
     },
     "output_type": "display_data"
    }
   ],
   "source": [
    "plt.figure(figsize=(10,5))\n",
    "ax= sns.histplot(y_validation, label='y True', color='blue')\n",
    "sns.histplot(y_predict, label='y Predict', color='orange', ax=ax)\n",
    "\n",
    "ax.set_xlim(-10, 200)\n",
    "plt.legend();"
   ]
  },
  {
   "cell_type": "markdown",
   "id": "c22c9898",
   "metadata": {},
   "source": [
    "## Lasso"
   ]
  },
  {
   "cell_type": "code",
   "execution_count": 246,
   "id": "ffee6a9d",
   "metadata": {},
   "outputs": [],
   "source": [
    "# define model\n",
    "lr = Lasso(alpha=0.0001)\n",
    "# train model\n",
    "lr.fit(x_train, y_train)\n",
    "# predict on validation\n",
    "y_predict = lr.predict(x_validation)"
   ]
  },
  {
   "cell_type": "code",
   "execution_count": 247,
   "id": "2268f3e7",
   "metadata": {},
   "outputs": [
    {
     "data": {
      "text/plain": [
       "5.108197780656356"
      ]
     },
     "execution_count": 247,
     "metadata": {},
     "output_type": "execute_result"
    }
   ],
   "source": [
    "y_train_predict = lr.predict(x_train)\n",
    "mean_squared_error(y_train, y_train_predict, squared=False)"
   ]
  },
  {
   "cell_type": "code",
   "execution_count": 248,
   "id": "3c433a27",
   "metadata": {},
   "outputs": [
    {
     "name": "stdout",
     "output_type": "stream",
     "text": [
      "Mean Squared Errror: 7.616617674364716\n",
      "Mean Absolute Percentage Error: 0.33264342667743946\n"
     ]
    }
   ],
   "source": [
    "print(f'Mean Squared Errror: {mean_squared_error(y_predict, y_validation, squared=False)}')\n",
    "\n",
    "print(f'Mean Absolute Percentage Error: {mean_absolute_percentage_error(y_predict, y_validation)}')"
   ]
  },
  {
   "cell_type": "code",
   "execution_count": 227,
   "id": "d4432411",
   "metadata": {},
   "outputs": [
    {
     "data": {
      "image/png": "[encoded data removed]",
      "text/plain": [
       "<Figure size 720x360 with 1 Axes>"
      ]
     },
     "metadata": {
      "needs_background": "light"
     },
     "output_type": "display_data"
    }
   ],
   "source": [
    "plt.figure(figsize=(10,5))\n",
    "ax= sns.histplot(y_validation, label='y True', color='blue')\n",
    "sns.histplot(y_predict, label='y Predict', color='orange', ax=ax)\n",
    "\n",
    "ax.set_xlim(-10, 200)\n",
    "plt.legend();"
   ]
  },
  {
   "cell_type": "markdown",
   "id": "6abd3acd",
   "metadata": {},
   "source": [
    "## Ridge"
   ]
  },
  {
   "cell_type": "code",
   "execution_count": 273,
   "id": "adb5982e",
   "metadata": {},
   "outputs": [],
   "source": [
    "# define model\n",
    "lr = Ridge(alpha=0.1)\n",
    "# train model\n",
    "lr.fit(x_train, y_train)\n",
    "# predict on validation\n",
    "y_predict = lr.predict(x_validation)"
   ]
  },
  {
   "cell_type": "code",
   "execution_count": 274,
   "id": "05f8d616",
   "metadata": {},
   "outputs": [
    {
     "data": {
      "text/plain": [
       "10.71267939576708"
      ]
     },
     "execution_count": 274,
     "metadata": {},
     "output_type": "execute_result"
    }
   ],
   "source": [
    "y_train_predict = lr.predict(x_train)\n",
    "mean_squared_error(y_train, y_train_predict, squared=False)"
   ]
  },
  {
   "cell_type": "code",
   "execution_count": 275,
   "id": "3abae0fc",
   "metadata": {},
   "outputs": [
    {
     "name": "stdout",
     "output_type": "stream",
     "text": [
      "Mean Squared Errror: 11.342569061461726\n",
      "Mean Absolute Percentage Error: 0.6155785329503155\n"
     ]
    }
   ],
   "source": [
    "print(f'Mean Squared Errror: {mean_squared_error(y_predict, y_validation, squared=False)}')\n",
    "\n",
    "print(f'Mean Absolute Percentage Error: {mean_absolute_percentage_error(y_predict, y_validation)}')"
   ]
  },
  {
   "cell_type": "code",
   "execution_count": 276,
   "id": "41e8cb9b",
   "metadata": {},
   "outputs": [
    {
     "data": {
      "image/png": "[encoded data removed]",
      "text/plain": [
       "<Figure size 720x360 with 1 Axes>"
      ]
     },
     "metadata": {
      "needs_background": "light"
     },
     "output_type": "display_data"
    }
   ],
   "source": [
    "plt.figure(figsize=(10,5))\n",
    "ax= sns.histplot(y_validation, label='y True', color='blue')\n",
    "sns.histplot(y_predict, label='y Predict', color='orange', ax=ax)\n",
    "\n",
    "ax.set_xlim(-10, 200)\n",
    "plt.legend();"
   ]
  },
  {
   "cell_type": "markdown",
   "id": "03d2c7f7",
   "metadata": {},
   "source": [
    "## Save Model"
   ]
  },
  {
   "cell_type": "code",
   "execution_count": 269,
   "id": "74727d16",
   "metadata": {},
   "outputs": [],
   "source": [
    "with open('../models/model.bin', 'wb') as file:\n",
    "    pickle.dump((dv, lr),file) # for now linear regression"
   ]
  }
 ],
 "metadata": {
  "kernelspec": {
   "display_name": "Python 3 (ipykernel)",
   "language": "python",
   "name": "python3"
  },
  "language_info": {
   "codemirror_mode": {
    "name": "ipython",
    "version": 3
   },
   "file_extension": ".py",
   "mimetype": "text/x-python",
   "name": "python",
   "nbconvert_exporter": "python",
   "pygments_lexer": "ipython3",
   "version": "3.9.12"
  }
 },
 "nbformat": 4,
 "nbformat_minor": 5
}
